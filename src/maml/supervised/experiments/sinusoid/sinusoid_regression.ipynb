{
 "cells": [
  {
   "cell_type": "code",
   "execution_count": 28,
   "id": "ca789f14",
   "metadata": {},
   "outputs": [],
   "source": [
    "import os\n",
    "import sys\n",
    "import numpy as np\n",
    "from tqdm import tqdm\n",
    "import matplotlib.pyplot as plt\n",
    "from copy import deepcopy\n",
    "\n",
    "import torch\n",
    "import torch.nn as nn\n",
    "from torch.optim.optimizer import Optimizer\n",
    "from torch.utils.tensorboard import SummaryWriter\n",
    "\n",
    "# configure module & syspath\n",
    "module_path = os.path.abspath(os.path.join('../../../../../'))\n",
    "if module_path not in sys.path:\n",
    "    sys.path.append(module_path)\n",
    "    \n",
    "from src.maml.supervised.models import SinusoidMLP"
   ]
  },
  {
   "cell_type": "code",
   "execution_count": 31,
   "id": "1ce41bbf",
   "metadata": {},
   "outputs": [],
   "source": [
    "class SineWave:\n",
    "\n",
    "    def __init__(self, amplitude: float, phase: float):\n",
    "        \"\"\"\n",
    "        Initialize amplitude sine wave\n",
    "        Args:\n",
    "          amplitude (int): Amplitude for the Sine wave.\n",
    "          phase (phase): Phase for the Sine wave function.\n",
    "        \"\"\"\n",
    "        self.amplitude = amplitude\n",
    "        self.phase = phase\n",
    "\n",
    "    def sample(self, num_points: int) -> [list, list]:\n",
    "        \"\"\"\n",
    "        Sample a given number of points from the current Sine wave function.\n",
    "        Args:\n",
    "          num_points (int): Number of points to sample from the\n",
    "        Returns:\n",
    "          Returns an tuple with the x and y coordinates of the sampled points.\n",
    "        \"\"\"\n",
    "        x = torch.rand((num_points, 1)) * 10 - 5\n",
    "        y = self.amplitude * torch.sin(x + self.phase)\n",
    "\n",
    "        return x, y"
   ]
  },
  {
   "cell_type": "code",
   "execution_count": 32,
   "id": "5d5f015b",
   "metadata": {},
   "outputs": [],
   "source": [
    "device = 'cpu'\n",
    "plt.rcParams['figure.figsize'] = (10, 4)"
   ]
  },
  {
   "cell_type": "code",
   "execution_count": 33,
   "id": "889d50ab",
   "metadata": {},
   "outputs": [],
   "source": [
    "@torch.no_grad()\n",
    "def generate_task() -> SineWave:\n",
    "    \"\"\"\n",
    "    Samples amplitude and phase, then returns a Sine Wave function corresponding to it.\n",
    "\n",
    "    Returns:\n",
    "        Returns a neural network that is tuned for few-shot learning.\n",
    "    \"\"\"\n",
    "    amp = torch.rand(1).item() * 4.9 + 0.1\n",
    "    phase = torch.rand(1).item() * np.pi\n",
    "\n",
    "    return SineWave(amp, phase)"
   ]
  },
  {
   "cell_type": "code",
   "execution_count": 38,
   "id": "46215800",
   "metadata": {},
   "outputs": [],
   "source": [
    "def MAML(\n",
    "  num_training_epochs: int,\n",
    "  num_tasks: int,\n",
    "  k_train: int,\n",
    "  k_test: int,\n",
    "  learning_rate: float,\n",
    "  device: str\n",
    "):\n",
    "    \"\"\"\n",
    "    Runs MAML on in the supervised regression setting as described in the MAML paper.\n",
    "\n",
    "    Args:\n",
    "        num_training_epochs (int): The number of epochs to run MAML over.\n",
    "        num_tasks (int): Number of tasks to be sampled from the distribution.\n",
    "        sample_size_k (int): The number of samples to be used for each of the tasks.\n",
    "        learning_rate (float): Learning rate to be used for the optimizers.\n",
    "        device (str): Device to run MAML on (can either be set to CPU or GPU)\n",
    "\n",
    "    Returns:\n",
    "        Returns a neural network that is tuned for few-shot learning.\n",
    "    \"\"\"\n",
    "    \n",
    "    \"\"\"\n",
    "    @todo check if the MAML algorithm can be further broken down, how much of this can be reused for classificaiton / reinforcement learning.\n",
    "    @todo check if the learning rates for internal and meta updates should be different.\n",
    "    \"\"\"\n",
    "\n",
    "    meta_model = SinusoidMLP(input_dim=1, hidden_dim=40, output_dim=1).to(device)\n",
    "    meta_optim = torch.optim.Adam(meta_model.parameters(), lr=learning_rate)\n",
    "\n",
    "    writer = SummaryWriter()\n",
    "    training_loss = list()\n",
    "    inner_training_loops = 1\n",
    "\n",
    "    for current_epoch in tqdm(range(num_training_epochs)):\n",
    "        theta_prime = dict()\n",
    "        data_prime = dict()\n",
    "        \n",
    "        \"\"\"\n",
    "        Sample tasks from the distribution.\n",
    "        \"\"\"\n",
    "        regression_tasks = [generate_task() for _ in range(num_tasks)]\n",
    "\n",
    "        \"\"\"\n",
    "        Iterate over each task in order to:\n",
    "            - Evaluate with respect to K examples\n",
    "            - Compute adapted parameters with gradient descent.\n",
    "        \"\"\"\n",
    "        for i, task in enumerate(regression_tasks):\n",
    "            # clone the model and optimize it for a specific task.\n",
    "            model_copy = SinusoidMLP(input_dim = 1, hidden_dim = 40, output_dim = 1)\n",
    "            model_copy.load_state_dict(meta_model.state_dict())\n",
    "            model_copy.to(device)\n",
    "\n",
    "            local_optim = torch.optim.SGD(model_copy.parameters(), lr=learning_rate)\n",
    "\n",
    "            for _ in range(inner_training_loops):\n",
    "                \"\"\"\n",
    "                Sample k points from a task, evaluate loss with respect to K examples.\n",
    "                \"\"\"\n",
    "                x_batch, y_batch = task.sample(k_train)\n",
    "                loss_function = nn.MSELoss()\n",
    "                loss = loss_function(model_copy(x_batch.to(device)), y_batch.to(device))\n",
    "\n",
    "                \"\"\"\n",
    "                Compute adapted parameters with gradient descent.\n",
    "                \"\"\" \n",
    "                local_optim.zero_grad()\n",
    "                loss.backward()\n",
    "                local_optim.step()\n",
    "                continue\n",
    "\n",
    "            \"\"\"\n",
    "            For the meta-update, we need to:\n",
    "                - Track adapted parameter \"theta prime\".\n",
    "                - Sample additional data from the current task that will be used to check out-of-sample performance.\n",
    "            \"\"\"\n",
    "            theta_prime[i] = model_copy.state_dict()\n",
    "\n",
    "            # @todo check if this update makes a large difference.\n",
    "            x_prime_batch, y_prime_batch = task.sample(k_test)\n",
    "            data_prime[i] = (x_prime_batch, y_prime_batch)\n",
    "            pass\n",
    "\n",
    "        \"\"\"\n",
    "        While making the meta-update:\n",
    "            - Sample data points for each task.\n",
    "            - Compute loss for each of the \"theta prime\" parameters.\n",
    "            - Aggregate gradients for losses corresponding to each \"theta prime\".\n",
    "        \"\"\"\n",
    "        meta_optim.zero_grad()\n",
    "        meta_grads = [torch.zeros_like(p) for p in meta_model.parameters()]\n",
    "        batch_training_loss = list()\n",
    "\n",
    "        for i, _ in enumerate(regression_tasks):\n",
    "            x_prime_batch, y_prime_batch = data_prime[i]\n",
    "\n",
    "            model_theta_prime = SinusoidMLP(input_dim = 1, hidden_dim = 40, output_dim = 1).to(device)\n",
    "            model_theta_prime.load_state_dict(theta_prime[i])\n",
    "            loss_function = nn.MSELoss()\n",
    "\n",
    "            \"\"\"\n",
    "            Compute out-of-sample loss for each of the tasks.\n",
    "            \"\"\"\n",
    "            loss = loss_function(model_theta_prime(x_prime_batch.to(device)), y_prime_batch.to(device))\n",
    "            loss.backward()\n",
    "\n",
    "            batch_training_loss.append(loss.item())\n",
    "\n",
    "            \"\"\"\n",
    "            Then, aggregate the gradients.\n",
    "            \"\"\"\n",
    "            for grad, param in zip(meta_grads, model_theta_prime.parameters()):\n",
    "                grad += param.grad\n",
    "\n",
    "        \"\"\"\n",
    "        Update parameter updates using aggregated gradients.\n",
    "        \"\"\"\n",
    "        for param, grad in zip(meta_model.parameters(), meta_grads):\n",
    "            param.grad = grad\n",
    "            pass\n",
    "\n",
    "        meta_optim.step()\n",
    "        training_loss.append(np.mean(batch_training_loss))\n",
    "        writer.add_scalar('meta-loss-sinusoid', np.mean(batch_training_loss), current_epoch)\n",
    "        \n",
    "        if current_epoch % 500 == 0:\n",
    "            writer.flush()\n",
    "\n",
    "    writer.close()\n",
    "\n",
    "    return meta_model, training_loss"
   ]
  },
  {
   "cell_type": "code",
   "execution_count": 39,
   "id": "22b301e2",
   "metadata": {},
   "outputs": [
    {
     "name": "stderr",
     "output_type": "stream",
     "text": [
      "100%|██████████| 70000/70000 [45:33<00:00, 25.60it/s]  \n"
     ]
    }
   ],
   "source": [
    "meta_model, training_loss = MAML(\n",
    "    num_training_epochs=70000, \n",
    "    k_train=10, \n",
    "    k_test=25,\n",
    "    learning_rate=1e-3, \n",
    "    device=device, \n",
    "    num_tasks=10\n",
    ")"
   ]
  },
  {
   "cell_type": "code",
   "execution_count": 26,
   "id": "10d4613b",
   "metadata": {},
   "outputs": [
    {
     "data": {
      "text/plain": [
       "[<matplotlib.lines.Line2D at 0x13222c6d0>]"
      ]
     },
     "execution_count": 26,
     "metadata": {},
     "output_type": "execute_result"
    },
    {
     "data": {
      "image/png": "[encoded data removed]",
      "text/plain": [
       "<Figure size 720x288 with 1 Axes>"
      ]
     },
     "metadata": {
      "needs_background": "light"
     },
     "output_type": "display_data"
    }
   ],
   "source": [
    "plt.plot(training_loss)"
   ]
  },
  {
   "cell_type": "code",
   "execution_count": 14,
   "id": "181a4aa3",
   "metadata": {},
   "outputs": [],
   "source": [
    "def k_shot_tune(model, task, batch_size, inner_training_steps, alpha, device='cpu'):\n",
    "    optimizer = torch.optim.SGD(model.parameters(), lr=alpha)\n",
    "\n",
    "    for epoch in range(inner_training_steps):\n",
    "        x_batch, target = task.sample(batch_size)\n",
    "        loss_fct = nn.MSELoss()\n",
    "\n",
    "        loss = loss_fct(model(x_batch.to(device)), target.to(device))\n",
    "\n",
    "        optimizer.zero_grad()\n",
    "        loss.backward()\n",
    "        optimizer.step()\n",
    "\n",
    "    return model"
   ]
  },
  {
   "cell_type": "code",
   "execution_count": 37,
   "id": "56f171b7",
   "metadata": {},
   "outputs": [
    {
     "data": {
      "text/plain": [
       "<matplotlib.legend.Legend at 0x1346ba700>"
      ]
     },
     "execution_count": 37,
     "metadata": {},
     "output_type": "execute_result"
    },
    {
     "data": {
      "image/png": "[encoded data removed]",
      "text/plain": [
       "<Figure size 720x288 with 1 Axes>"
      ]
     },
     "metadata": {
      "needs_background": "light"
     },
     "output_type": "display_data"
    }
   ],
   "source": [
    "x = torch.linspace(-5, 5, 50)\n",
    "task = generate_task()\n",
    "ground_truth_y = task.amplitude * torch.sin(x + task.phase)\n",
    "pre_tuning_y = meta_model(x[..., None])\n",
    "\n",
    "# Tune\n",
    "tuned_model = k_shot_tune(meta_model, task, k_train = 10, k_test = 10, learning_rate = 1e-3, device='cpu')\n",
    "y = tuned_model(x[..., None])\n",
    "\n",
    "# Plot\n",
    "plt.title('MAML, K=10')\n",
    "plt.plot(x.data.numpy(), ground_truth_y.data.numpy(), c='red', label='Ground Truth')\n",
    "plt.plot(x.data.numpy(), pre_tuning_y.data.numpy(), c='gray', linestyle='dotted', label='Pre-Tuning')\n",
    "plt.plot(x.data.numpy(), y.data.numpy(), c='mediumseagreen', label='10 Gradient Steps', linewidth='2')\n",
    "plt.legend()"
   ]
  },
  {
   "cell_type": "code",
   "execution_count": null,
   "id": "90930a52",
   "metadata": {},
   "outputs": [],
   "source": []
  }
 ],
 "metadata": {
  "kernelspec": {
   "display_name": "Python 3",
   "language": "python",
   "name": "python3"
  },
  "language_info": {
   "codemirror_mode": {
    "name": "ipython",
    "version": 3
   },
   "file_extension": ".py",
   "mimetype": "text/x-python",
   "name": "python",
   "nbconvert_exporter": "python",
   "pygments_lexer": "ipython3",
   "version": "3.9.13"
  }
 },
 "nbformat": 4,
 "nbformat_minor": 5
}
